{
 "cells": [
  {
   "cell_type": "code",
   "execution_count": null,
   "id": "30f2f761-aeb3-431e-8b73-1a4d2c9462a1",
   "metadata": {},
   "outputs": [],
   "source": [
    "#list comprehension\n",
    "x =[ i*2 for i in range(10) if i % 2 == 1]\n",
    "\n",
    "x = []\n",
    "for i in range(10)\n",
    "    if i % 2 == 1:\n",
    "        x.append(i*2)"
   ]
  }
 ],
 "metadata": {
  "kernelspec": {
   "display_name": "Python 3 (ipykernel)",
   "language": "python",
   "name": "python3"
  },
  "language_info": {
   "codemirror_mode": {
    "name": "ipython",
    "version": 3
   },
   "file_extension": ".py",
   "mimetype": "text/x-python",
   "name": "python",
   "nbconvert_exporter": "python",
   "pygments_lexer": "ipython3",
   "version": "3.11.3"
  }
 },
 "nbformat": 4,
 "nbformat_minor": 5
}
